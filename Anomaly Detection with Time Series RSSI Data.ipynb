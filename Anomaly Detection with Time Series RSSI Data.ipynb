{
 "cells": [
  {
   "cell_type": "markdown",
   "id": "f926bda3",
   "metadata": {
    "toc": true
   },
   "source": [
    "<h1>Table of Contents<span class=\"tocSkip\"></span></h1>\n",
    "<div class=\"toc\"><ul class=\"toc-item\"><li><span><a href=\"#Import-Libraries-and-Dataset\" data-toc-modified-id=\"Import-Libraries-and-Dataset-1\"><span class=\"toc-item-num\">1&nbsp;&nbsp;</span>Import Libraries and Dataset</a></span></li><li><span><a href=\"#Data-Analysis-and-Engineering\" data-toc-modified-id=\"Data-Analysis-and-Engineering-2\"><span class=\"toc-item-num\">2&nbsp;&nbsp;</span>Data Analysis and Engineering</a></span></li><li><span><a href=\"#Anomaly-Detection-using-Autoencoder\" data-toc-modified-id=\"Anomaly-Detection-using-Autoencoder-3\"><span class=\"toc-item-num\">3&nbsp;&nbsp;</span>Anomaly Detection using Autoencoder</a></span><ul class=\"toc-item\"><li><span><a href=\"#Define-the-autoencoder-model\" data-toc-modified-id=\"Define-the-autoencoder-model-3.1\"><span class=\"toc-item-num\">3.1&nbsp;&nbsp;</span>Define the autoencoder model</a></span></li><li><span><a href=\"#Compile-and-fit-the-model\" data-toc-modified-id=\"Compile-and-fit-the-model-3.2\"><span class=\"toc-item-num\">3.2&nbsp;&nbsp;</span>Compile and fit the model</a></span></li><li><span><a href=\"#Calculate-the-reconstruction-error-for-each-data-point\" data-toc-modified-id=\"Calculate-the-reconstruction-error-for-each-data-point-3.3\"><span class=\"toc-item-num\">3.3&nbsp;&nbsp;</span>Calculate the reconstruction error for each data point</a></span></li><li><span><a href=\"#Define-an-anomaly-detection-threshold-and-model’s-effectiveness\" data-toc-modified-id=\"Define-an-anomaly-detection-threshold-and-model’s-effectiveness-3.4\"><span class=\"toc-item-num\">3.4&nbsp;&nbsp;</span>Define an anomaly detection threshold and model’s effectiveness</a></span></li></ul></li><li><span><a href=\"#Visualize-Data\" data-toc-modified-id=\"Visualize-Data-4\"><span class=\"toc-item-num\">4&nbsp;&nbsp;</span>Visualize Data</a></span></li></ul></div>"
   ]
  },
  {
   "cell_type": "markdown",
   "id": "4f96dc81",
   "metadata": {},
   "source": [
    "## Import Libraries and Dataset"
   ]
  },
  {
   "cell_type": "code",
   "execution_count": 3,
   "id": "db468298",
   "metadata": {},
   "outputs": [],
   "source": [
    "import pandas as pd\n",
    "import tensorflow as tf\n",
    "from keras.layers import Input, Dense\n",
    "from keras.models import Model\n",
    "from sklearn.metrics import precision_recall_fscore_support\n",
    "import matplotlib.pyplot as plt"
   ]
  },
  {
   "cell_type": "code",
   "execution_count": 34,
   "id": "7900fca8",
   "metadata": {},
   "outputs": [],
   "source": [
    "data = pd.read_csv('rssi.csv')"
   ]
  },
  {
   "cell_type": "code",
   "execution_count": 35,
   "id": "a2c11fbd",
   "metadata": {},
   "outputs": [
    {
     "data": {
      "text/html": [
       "<div>\n",
       "<style scoped>\n",
       "    .dataframe tbody tr th:only-of-type {\n",
       "        vertical-align: middle;\n",
       "    }\n",
       "\n",
       "    .dataframe tbody tr th {\n",
       "        vertical-align: top;\n",
       "    }\n",
       "\n",
       "    .dataframe thead th {\n",
       "        text-align: right;\n",
       "    }\n",
       "</style>\n",
       "<table border=\"1\" class=\"dataframe\">\n",
       "  <thead>\n",
       "    <tr style=\"text-align: right;\">\n",
       "      <th></th>\n",
       "      <th>ap</th>\n",
       "      <th>signal</th>\n",
       "      <th>sequence</th>\n",
       "      <th>x</th>\n",
       "      <th>y</th>\n",
       "      <th>z</th>\n",
       "    </tr>\n",
       "  </thead>\n",
       "  <tbody>\n",
       "    <tr>\n",
       "      <th>0</th>\n",
       "      <td>A</td>\n",
       "      <td>11.0</td>\n",
       "      <td>0.0</td>\n",
       "      <td>22.0</td>\n",
       "      <td>17.0</td>\n",
       "      <td>2.0</td>\n",
       "    </tr>\n",
       "    <tr>\n",
       "      <th>1</th>\n",
       "      <td>A</td>\n",
       "      <td>10.0</td>\n",
       "      <td>1.0</td>\n",
       "      <td>22.0</td>\n",
       "      <td>17.0</td>\n",
       "      <td>2.0</td>\n",
       "    </tr>\n",
       "    <tr>\n",
       "      <th>2</th>\n",
       "      <td>A</td>\n",
       "      <td>10.0</td>\n",
       "      <td>2.0</td>\n",
       "      <td>22.0</td>\n",
       "      <td>17.0</td>\n",
       "      <td>2.0</td>\n",
       "    </tr>\n",
       "    <tr>\n",
       "      <th>3</th>\n",
       "      <td>A</td>\n",
       "      <td>9.0</td>\n",
       "      <td>3.0</td>\n",
       "      <td>22.0</td>\n",
       "      <td>17.0</td>\n",
       "      <td>2.0</td>\n",
       "    </tr>\n",
       "    <tr>\n",
       "      <th>4</th>\n",
       "      <td>A</td>\n",
       "      <td>11.0</td>\n",
       "      <td>4.0</td>\n",
       "      <td>22.0</td>\n",
       "      <td>17.0</td>\n",
       "      <td>2.0</td>\n",
       "    </tr>\n",
       "    <tr>\n",
       "      <th>...</th>\n",
       "      <td>...</td>\n",
       "      <td>...</td>\n",
       "      <td>...</td>\n",
       "      <td>...</td>\n",
       "      <td>...</td>\n",
       "      <td>...</td>\n",
       "    </tr>\n",
       "    <tr>\n",
       "      <th>119963</th>\n",
       "      <td>B</td>\n",
       "      <td>18.0</td>\n",
       "      <td>101.0</td>\n",
       "      <td>5.0</td>\n",
       "      <td>32.0</td>\n",
       "      <td>1.0</td>\n",
       "    </tr>\n",
       "    <tr>\n",
       "      <th>119964</th>\n",
       "      <td>B</td>\n",
       "      <td>13.0</td>\n",
       "      <td>102.0</td>\n",
       "      <td>5.0</td>\n",
       "      <td>32.0</td>\n",
       "      <td>1.0</td>\n",
       "    </tr>\n",
       "    <tr>\n",
       "      <th>119965</th>\n",
       "      <td>B</td>\n",
       "      <td>16.0</td>\n",
       "      <td>103.0</td>\n",
       "      <td>5.0</td>\n",
       "      <td>32.0</td>\n",
       "      <td>1.0</td>\n",
       "    </tr>\n",
       "    <tr>\n",
       "      <th>119966</th>\n",
       "      <td>B</td>\n",
       "      <td>14.0</td>\n",
       "      <td>104.0</td>\n",
       "      <td>5.0</td>\n",
       "      <td>32.0</td>\n",
       "      <td>1.0</td>\n",
       "    </tr>\n",
       "    <tr>\n",
       "      <th>119967</th>\n",
       "      <td>B</td>\n",
       "      <td>16.0</td>\n",
       "      <td>105.0</td>\n",
       "      <td>5.0</td>\n",
       "      <td>32.0</td>\n",
       "      <td>1.0</td>\n",
       "    </tr>\n",
       "  </tbody>\n",
       "</table>\n",
       "<p>119968 rows × 6 columns</p>\n",
       "</div>"
      ],
      "text/plain": [
       "       ap  signal  sequence     x     y    z\n",
       "0       A    11.0       0.0  22.0  17.0  2.0\n",
       "1       A    10.0       1.0  22.0  17.0  2.0\n",
       "2       A    10.0       2.0  22.0  17.0  2.0\n",
       "3       A     9.0       3.0  22.0  17.0  2.0\n",
       "4       A    11.0       4.0  22.0  17.0  2.0\n",
       "...    ..     ...       ...   ...   ...  ...\n",
       "119963  B    18.0     101.0   5.0  32.0  1.0\n",
       "119964  B    13.0     102.0   5.0  32.0  1.0\n",
       "119965  B    16.0     103.0   5.0  32.0  1.0\n",
       "119966  B    14.0     104.0   5.0  32.0  1.0\n",
       "119967  B    16.0     105.0   5.0  32.0  1.0\n",
       "\n",
       "[119968 rows x 6 columns]"
      ]
     },
     "execution_count": 35,
     "metadata": {},
     "output_type": "execute_result"
    }
   ],
   "source": [
    "data"
   ]
  },
  {
   "cell_type": "markdown",
   "id": "9cb13d19",
   "metadata": {},
   "source": [
    "## Data Analysis and Engineering"
   ]
  },
  {
   "cell_type": "code",
   "execution_count": 36,
   "id": "858ac38c",
   "metadata": {},
   "outputs": [
    {
     "data": {
      "text/plain": [
       "signal\n",
       "12.0    3952\n",
       "13.0    3844\n",
       "14.0    3832\n",
       "11.0    3739\n",
       "19.0    3707\n",
       "        ... \n",
       "56.0      57\n",
       "57.0      27\n",
       "58.0      10\n",
       "59.0       6\n",
       "60.0       2\n",
       "Name: count, Length: 61, dtype: int64"
      ]
     },
     "execution_count": 36,
     "metadata": {},
     "output_type": "execute_result"
    }
   ],
   "source": [
    "data['signal'].value_counts()"
   ]
  },
  {
   "cell_type": "code",
   "execution_count": 37,
   "id": "666b1e3f",
   "metadata": {},
   "outputs": [
    {
     "data": {
      "text/plain": [
       "sequence\n",
       "0.0      1104\n",
       "1.0      1092\n",
       "2.0      1090\n",
       "3.0      1087\n",
       "4.0      1082\n",
       "         ... \n",
       "452.0       1\n",
       "453.0       1\n",
       "454.0       1\n",
       "455.0       1\n",
       "482.0       1\n",
       "Name: count, Length: 483, dtype: int64"
      ]
     },
     "execution_count": 37,
     "metadata": {},
     "output_type": "execute_result"
    }
   ],
   "source": [
    "data['sequence'].value_counts()"
   ]
  },
  {
   "cell_type": "code",
   "execution_count": 38,
   "id": "1bfd4fee",
   "metadata": {},
   "outputs": [],
   "source": [
    "data.drop(columns=['ap', 'x', 'y', 'z'], inplace=True)"
   ]
  },
  {
   "cell_type": "code",
   "execution_count": 39,
   "id": "ea0345d4",
   "metadata": {},
   "outputs": [],
   "source": [
    "data = data.groupby(['sequence'], as_index=False).mean()"
   ]
  },
  {
   "cell_type": "code",
   "execution_count": 40,
   "id": "d6af8563",
   "metadata": {},
   "outputs": [
    {
     "data": {
      "text/html": [
       "<div>\n",
       "<style scoped>\n",
       "    .dataframe tbody tr th:only-of-type {\n",
       "        vertical-align: middle;\n",
       "    }\n",
       "\n",
       "    .dataframe tbody tr th {\n",
       "        vertical-align: top;\n",
       "    }\n",
       "\n",
       "    .dataframe thead th {\n",
       "        text-align: right;\n",
       "    }\n",
       "</style>\n",
       "<table border=\"1\" class=\"dataframe\">\n",
       "  <thead>\n",
       "    <tr style=\"text-align: right;\">\n",
       "      <th></th>\n",
       "      <th>sequence</th>\n",
       "      <th>signal</th>\n",
       "    </tr>\n",
       "  </thead>\n",
       "  <tbody>\n",
       "    <tr>\n",
       "      <th>0</th>\n",
       "      <td>0.0</td>\n",
       "      <td>20.455616</td>\n",
       "    </tr>\n",
       "    <tr>\n",
       "      <th>1</th>\n",
       "      <td>1.0</td>\n",
       "      <td>20.755495</td>\n",
       "    </tr>\n",
       "    <tr>\n",
       "      <th>2</th>\n",
       "      <td>2.0</td>\n",
       "      <td>20.911009</td>\n",
       "    </tr>\n",
       "    <tr>\n",
       "      <th>3</th>\n",
       "      <td>3.0</td>\n",
       "      <td>20.974241</td>\n",
       "    </tr>\n",
       "    <tr>\n",
       "      <th>4</th>\n",
       "      <td>4.0</td>\n",
       "      <td>20.918669</td>\n",
       "    </tr>\n",
       "    <tr>\n",
       "      <th>...</th>\n",
       "      <td>...</td>\n",
       "      <td>...</td>\n",
       "    </tr>\n",
       "    <tr>\n",
       "      <th>478</th>\n",
       "      <td>478.0</td>\n",
       "      <td>27.000000</td>\n",
       "    </tr>\n",
       "    <tr>\n",
       "      <th>479</th>\n",
       "      <td>479.0</td>\n",
       "      <td>30.000000</td>\n",
       "    </tr>\n",
       "    <tr>\n",
       "      <th>480</th>\n",
       "      <td>480.0</td>\n",
       "      <td>27.000000</td>\n",
       "    </tr>\n",
       "    <tr>\n",
       "      <th>481</th>\n",
       "      <td>481.0</td>\n",
       "      <td>31.000000</td>\n",
       "    </tr>\n",
       "    <tr>\n",
       "      <th>482</th>\n",
       "      <td>482.0</td>\n",
       "      <td>31.000000</td>\n",
       "    </tr>\n",
       "  </tbody>\n",
       "</table>\n",
       "<p>483 rows × 2 columns</p>\n",
       "</div>"
      ],
      "text/plain": [
       "     sequence     signal\n",
       "0         0.0  20.455616\n",
       "1         1.0  20.755495\n",
       "2         2.0  20.911009\n",
       "3         3.0  20.974241\n",
       "4         4.0  20.918669\n",
       "..        ...        ...\n",
       "478     478.0  27.000000\n",
       "479     479.0  30.000000\n",
       "480     480.0  27.000000\n",
       "481     481.0  31.000000\n",
       "482     482.0  31.000000\n",
       "\n",
       "[483 rows x 2 columns]"
      ]
     },
     "execution_count": 40,
     "metadata": {},
     "output_type": "execute_result"
    }
   ],
   "source": [
    "data"
   ]
  },
  {
   "cell_type": "code",
   "execution_count": 41,
   "id": "23a98cd5",
   "metadata": {},
   "outputs": [
    {
     "data": {
      "text/html": [
       "<div>\n",
       "<style scoped>\n",
       "    .dataframe tbody tr th:only-of-type {\n",
       "        vertical-align: middle;\n",
       "    }\n",
       "\n",
       "    .dataframe tbody tr th {\n",
       "        vertical-align: top;\n",
       "    }\n",
       "\n",
       "    .dataframe thead th {\n",
       "        text-align: right;\n",
       "    }\n",
       "</style>\n",
       "<table border=\"1\" class=\"dataframe\">\n",
       "  <thead>\n",
       "    <tr style=\"text-align: right;\">\n",
       "      <th></th>\n",
       "      <th>sequence</th>\n",
       "      <th>signal</th>\n",
       "    </tr>\n",
       "  </thead>\n",
       "  <tbody>\n",
       "    <tr>\n",
       "      <th>count</th>\n",
       "      <td>483.000000</td>\n",
       "      <td>483.000000</td>\n",
       "    </tr>\n",
       "    <tr>\n",
       "      <th>mean</th>\n",
       "      <td>241.000000</td>\n",
       "      <td>22.788751</td>\n",
       "    </tr>\n",
       "    <tr>\n",
       "      <th>std</th>\n",
       "      <td>139.574353</td>\n",
       "      <td>2.854260</td>\n",
       "    </tr>\n",
       "    <tr>\n",
       "      <th>min</th>\n",
       "      <td>0.000000</td>\n",
       "      <td>15.600000</td>\n",
       "    </tr>\n",
       "    <tr>\n",
       "      <th>25%</th>\n",
       "      <td>120.500000</td>\n",
       "      <td>21.063177</td>\n",
       "    </tr>\n",
       "    <tr>\n",
       "      <th>50%</th>\n",
       "      <td>241.000000</td>\n",
       "      <td>22.567749</td>\n",
       "    </tr>\n",
       "    <tr>\n",
       "      <th>75%</th>\n",
       "      <td>361.500000</td>\n",
       "      <td>23.809091</td>\n",
       "    </tr>\n",
       "    <tr>\n",
       "      <th>max</th>\n",
       "      <td>482.000000</td>\n",
       "      <td>32.000000</td>\n",
       "    </tr>\n",
       "  </tbody>\n",
       "</table>\n",
       "</div>"
      ],
      "text/plain": [
       "         sequence      signal\n",
       "count  483.000000  483.000000\n",
       "mean   241.000000   22.788751\n",
       "std    139.574353    2.854260\n",
       "min      0.000000   15.600000\n",
       "25%    120.500000   21.063177\n",
       "50%    241.000000   22.567749\n",
       "75%    361.500000   23.809091\n",
       "max    482.000000   32.000000"
      ]
     },
     "execution_count": 41,
     "metadata": {},
     "output_type": "execute_result"
    }
   ],
   "source": [
    "data.describe()"
   ]
  },
  {
   "cell_type": "code",
   "execution_count": 42,
   "id": "262cf68c",
   "metadata": {},
   "outputs": [],
   "source": [
    "data = data.dropna()"
   ]
  },
  {
   "cell_type": "markdown",
   "id": "a393e95f",
   "metadata": {},
   "source": [
    "## Anomaly Detection using Autoencoder"
   ]
  },
  {
   "cell_type": "code",
   "execution_count": 43,
   "id": "f5ac65c0",
   "metadata": {},
   "outputs": [],
   "source": [
    "data_tensor = tf.convert_to_tensor(data.drop('sequence', axis=1).values, dtype=tf.float32)"
   ]
  },
  {
   "cell_type": "markdown",
   "id": "2218286b",
   "metadata": {},
   "source": [
    "### Define the autoencoder model"
   ]
  },
  {
   "cell_type": "code",
   "execution_count": 44,
   "id": "16679ae2",
   "metadata": {},
   "outputs": [],
   "source": [
    "input_dim = data.shape[1] - 1\n",
    "encoding_dim = 10"
   ]
  },
  {
   "cell_type": "code",
   "execution_count": 45,
   "id": "fec2ab60",
   "metadata": {},
   "outputs": [],
   "source": [
    "input_layer = Input(shape=(input_dim,))\n",
    "encoder = Dense(encoding_dim, activation='relu')(input_layer)\n",
    "decoder = Dense(input_dim, activation='relu')(encoder)\n",
    "autoencoder = Model(inputs=input_layer, outputs=decoder)"
   ]
  },
  {
   "cell_type": "markdown",
   "id": "04f4c23a",
   "metadata": {},
   "source": [
    "### Compile and fit the model"
   ]
  },
  {
   "cell_type": "code",
   "execution_count": 46,
   "id": "e1a980ba",
   "metadata": {},
   "outputs": [
    {
     "name": "stdout",
     "output_type": "stream",
     "text": [
      "Epoch 1/50\n",
      "16/16 [==============================] - 1s 1ms/step - loss: 256.2439\n",
      "Epoch 2/50\n",
      "16/16 [==============================] - 0s 1ms/step - loss: 231.0690\n",
      "Epoch 3/50\n",
      "16/16 [==============================] - 0s 1ms/step - loss: 207.1664\n",
      "Epoch 4/50\n",
      "16/16 [==============================] - 0s 1ms/step - loss: 184.3666\n",
      "Epoch 5/50\n",
      "16/16 [==============================] - 0s 2ms/step - loss: 162.3232\n",
      "Epoch 6/50\n",
      "16/16 [==============================] - 0s 2ms/step - loss: 141.0575\n",
      "Epoch 7/50\n",
      "16/16 [==============================] - 0s 2ms/step - loss: 120.5136\n",
      "Epoch 8/50\n",
      "16/16 [==============================] - 0s 2ms/step - loss: 101.1263\n",
      "Epoch 9/50\n",
      "16/16 [==============================] - 0s 2ms/step - loss: 83.3466\n",
      "Epoch 10/50\n",
      "16/16 [==============================] - 0s 2ms/step - loss: 67.2224\n",
      "Epoch 11/50\n",
      "16/16 [==============================] - 0s 2ms/step - loss: 52.9251\n",
      "Epoch 12/50\n",
      "16/16 [==============================] - 0s 2ms/step - loss: 40.5328\n",
      "Epoch 13/50\n",
      "16/16 [==============================] - 0s 2ms/step - loss: 30.1938\n",
      "Epoch 14/50\n",
      "16/16 [==============================] - 0s 2ms/step - loss: 21.8292\n",
      "Epoch 15/50\n",
      "16/16 [==============================] - 0s 2ms/step - loss: 15.2807\n",
      "Epoch 16/50\n",
      "16/16 [==============================] - 0s 2ms/step - loss: 10.3207\n",
      "Epoch 17/50\n",
      "16/16 [==============================] - 0s 2ms/step - loss: 6.7601\n",
      "Epoch 18/50\n",
      "16/16 [==============================] - 0s 2ms/step - loss: 4.2632\n",
      "Epoch 19/50\n",
      "16/16 [==============================] - 0s 2ms/step - loss: 2.5809\n",
      "Epoch 20/50\n",
      "16/16 [==============================] - 0s 2ms/step - loss: 1.4919\n",
      "Epoch 21/50\n",
      "16/16 [==============================] - 0s 2ms/step - loss: 0.8261\n",
      "Epoch 22/50\n",
      "16/16 [==============================] - 0s 2ms/step - loss: 0.4433\n",
      "Epoch 23/50\n",
      "16/16 [==============================] - 0s 2ms/step - loss: 0.2292\n",
      "Epoch 24/50\n",
      "16/16 [==============================] - 0s 2ms/step - loss: 0.1173\n",
      "Epoch 25/50\n",
      "16/16 [==============================] - 0s 2ms/step - loss: 0.0604\n",
      "Epoch 26/50\n",
      "16/16 [==============================] - 0s 2ms/step - loss: 0.0318\n",
      "Epoch 27/50\n",
      "16/16 [==============================] - 0s 2ms/step - loss: 0.0180\n",
      "Epoch 28/50\n",
      "16/16 [==============================] - 0s 2ms/step - loss: 0.0115\n",
      "Epoch 29/50\n",
      "16/16 [==============================] - 0s 2ms/step - loss: 0.0086\n",
      "Epoch 30/50\n",
      "16/16 [==============================] - 0s 2ms/step - loss: 0.0072\n",
      "Epoch 31/50\n",
      "16/16 [==============================] - 0s 2ms/step - loss: 0.0066\n",
      "Epoch 32/50\n",
      "16/16 [==============================] - 0s 2ms/step - loss: 0.0064\n",
      "Epoch 33/50\n",
      "16/16 [==============================] - 0s 2ms/step - loss: 0.0063\n",
      "Epoch 34/50\n",
      "16/16 [==============================] - 0s 2ms/step - loss: 0.0062\n",
      "Epoch 35/50\n",
      "16/16 [==============================] - 0s 2ms/step - loss: 0.0062\n",
      "Epoch 36/50\n",
      "16/16 [==============================] - 0s 2ms/step - loss: 0.0062\n",
      "Epoch 37/50\n",
      "16/16 [==============================] - 0s 2ms/step - loss: 0.0062\n",
      "Epoch 38/50\n",
      "16/16 [==============================] - 0s 2ms/step - loss: 0.0062\n",
      "Epoch 39/50\n",
      "16/16 [==============================] - 0s 2ms/step - loss: 0.0062\n",
      "Epoch 40/50\n",
      "16/16 [==============================] - 0s 2ms/step - loss: 0.0062\n",
      "Epoch 41/50\n",
      "16/16 [==============================] - 0s 2ms/step - loss: 0.0062\n",
      "Epoch 42/50\n",
      "16/16 [==============================] - 0s 2ms/step - loss: 0.0062\n",
      "Epoch 43/50\n",
      "16/16 [==============================] - 0s 2ms/step - loss: 0.0062\n",
      "Epoch 44/50\n",
      "16/16 [==============================] - 0s 2ms/step - loss: 0.0062\n",
      "Epoch 45/50\n",
      "16/16 [==============================] - 0s 1ms/step - loss: 0.0062\n",
      "Epoch 46/50\n",
      "16/16 [==============================] - 0s 1ms/step - loss: 0.0062\n",
      "Epoch 47/50\n",
      "16/16 [==============================] - 0s 1ms/step - loss: 0.0062\n",
      "Epoch 48/50\n",
      "16/16 [==============================] - 0s 1ms/step - loss: 0.0062\n",
      "Epoch 49/50\n",
      "16/16 [==============================] - 0s 1ms/step - loss: 0.0062\n",
      "Epoch 50/50\n",
      "16/16 [==============================] - 0s 1ms/step - loss: 0.0062\n"
     ]
    },
    {
     "data": {
      "text/plain": [
       "<keras.src.callbacks.History at 0x1f7d0b11160>"
      ]
     },
     "execution_count": 46,
     "metadata": {},
     "output_type": "execute_result"
    }
   ],
   "source": [
    "autoencoder.compile(optimizer='adam', loss='mse')\n",
    "autoencoder.fit(data_tensor, data_tensor, epochs=50,\n",
    "                batch_size=32, shuffle=True)"
   ]
  },
  {
   "cell_type": "markdown",
   "id": "649b9c7c",
   "metadata": {},
   "source": [
    "### Calculate the reconstruction error for each data point"
   ]
  },
  {
   "cell_type": "code",
   "execution_count": 47,
   "id": "8ac3b726",
   "metadata": {},
   "outputs": [
    {
     "name": "stdout",
     "output_type": "stream",
     "text": [
      "16/16 [==============================] - 0s 2ms/step\n"
     ]
    }
   ],
   "source": [
    "reconstructions = autoencoder.predict(data_tensor)\n",
    "mse = tf.reduce_mean(tf.square(data_tensor - reconstructions), axis=1)\n",
    "anomaly_scores = pd.Series(mse.numpy(), name='anomaly_scores')\n",
    "anomaly_scores.index = data.index"
   ]
  },
  {
   "cell_type": "markdown",
   "id": "229c8684",
   "metadata": {},
   "source": [
    "### Define an anomaly detection threshold and model’s effectiveness"
   ]
  },
  {
   "cell_type": "code",
   "execution_count": 48,
   "id": "d46cf724",
   "metadata": {},
   "outputs": [],
   "source": [
    "threshold = anomaly_scores.quantile(0.99)\n",
    "anomalous = anomaly_scores > threshold\n",
    "binary_labels = anomalous.astype(int)\n",
    "precision, recall, f1_score, _ = precision_recall_fscore_support(binary_labels, anomalous, average='binary')"
   ]
  },
  {
   "cell_type": "code",
   "execution_count": 49,
   "id": "08df1a31",
   "metadata": {},
   "outputs": [
    {
     "name": "stdout",
     "output_type": "stream",
     "text": [
      "Precision:  1.0\n",
      "Recall:  1.0\n",
      "F1 Score:  1.0\n"
     ]
    }
   ],
   "source": [
    "test = data['signal'].values\n",
    "predictions = anomaly_scores.values\n",
    "  \n",
    "print(\"Precision: \", precision)\n",
    "print(\"Recall: \", recall)\n",
    "print(\"F1 Score: \", f1_score)"
   ]
  },
  {
   "cell_type": "markdown",
   "id": "a0e8ae44",
   "metadata": {
    "ExecuteTime": {
     "end_time": "2023-09-20T18:53:23.082955Z",
     "start_time": "2023-09-20T18:53:23.079194Z"
    }
   },
   "source": [
    "## Visualize Data"
   ]
  },
  {
   "cell_type": "code",
   "execution_count": 50,
   "id": "c1d49f6a",
   "metadata": {},
   "outputs": [
    {
     "data": {
      "image/png": "[encoded data removed]",
      "text/plain": [
       "<Figure size 1600x800 with 1 Axes>"
      ]
     },
     "metadata": {},
     "output_type": "display_data"
    }
   ],
   "source": [
    "plt.figure(figsize=(16, 8))\n",
    "plt.plot(data['sequence'],\n",
    "         data['signal'])\n",
    "plt.plot(data['sequence'][anomalous],\n",
    "         data['signal'][anomalous], 'ro')\n",
    "plt.title('Anomaly Detection')\n",
    "plt.xlabel('Time')\n",
    "plt.ylabel('Signal')\n",
    "plt.show()"
   ]
  },
  {
   "cell_type": "code",
   "execution_count": 51,
   "id": "482959d1",
   "metadata": {},
   "outputs": [
    {
     "data": {
      "text/plain": [
       "440    32.0\n",
       "464    32.0\n",
       "468    32.0\n",
       "477    32.0\n",
       "Name: signal, dtype: float64"
      ]
     },
     "execution_count": 51,
     "metadata": {},
     "output_type": "execute_result"
    }
   ],
   "source": [
    "data['signal'][anomalous]"
   ]
  },
  {
   "cell_type": "code",
   "execution_count": null,
   "id": "4c6d50f8",
   "metadata": {},
   "outputs": [],
   "source": []
  }
 ],
 "metadata": {
  "kernelspec": {
   "display_name": "Python 3 (ipykernel)",
   "language": "python",
   "name": "python3"
  },
  "language_info": {
   "codemirror_mode": {
    "name": "ipython",
    "version": 3
   },
   "file_extension": ".py",
   "mimetype": "text/x-python",
   "name": "python",
   "nbconvert_exporter": "python",
   "pygments_lexer": "ipython3",
   "version": "3.11.5"
  },
  "toc": {
   "base_numbering": 1,
   "nav_menu": {},
   "number_sections": true,
   "sideBar": true,
   "skip_h1_title": true,
   "title_cell": "Table of Contents",
   "title_sidebar": "Contents",
   "toc_cell": true,
   "toc_position": {},
   "toc_section_display": true,
   "toc_window_display": true
  }
 },
 "nbformat": 4,
 "nbformat_minor": 5
}
